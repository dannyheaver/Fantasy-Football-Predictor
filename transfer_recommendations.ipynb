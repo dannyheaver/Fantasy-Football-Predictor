{
 "cells": [
  {
   "cell_type": "code",
   "execution_count": 1,
   "metadata": {},
   "outputs": [],
   "source": [
    "import pandas as pd\n",
    "import ipywidgets as widgets\n",
    "from collections import Counter"
   ]
  },
  {
   "cell_type": "code",
   "execution_count": 2,
   "metadata": {},
   "outputs": [],
   "source": [
    "predictions = pd.read_csv('CSV/predictions/predictions.csv')\n",
    "predictions.sort_values(by=['predicted_point_range', 'prob_3', 'prob_2', 'prob_1', 'prob_0'], ascending=False, inplace=True)"
   ]
  },
  {
   "cell_type": "code",
   "execution_count": 3,
   "metadata": {},
   "outputs": [],
   "source": [
    "your_squad = []\n",
    "\n",
    "def add_player(b):\n",
    "    player_name = players.value\n",
    "    if player_name in tuple(predictions['name']):\n",
    "        your_squad.append(player_name)\n",
    "    else:\n",
    "        raise ValueError('player name not valid')\n",
    "    \n",
    "def remove_player(b):\n",
    "    player_name = squad.value\n",
    "    if player_name in tuple(predictions['name']):\n",
    "        your_squad.remove(player_name)\n",
    "    else:\n",
    "        raise ValueError('Player name not valid')\n",
    "    \n",
    "def restart_list(b):\n",
    "    your_squad.clear()\n",
    "    \n",
    "def view_full_squad(b):\n",
    "    player_rows = [predictions[predictions['name'] == name] for name in your_squad]\n",
    "    if not player_rows:\n",
    "        raise ValueError('Squad list is empty.')\n",
    "    squad = pd.concat(player_rows)\n",
    "    squad['position'] = pd.Categorical(squad['position'], categories=['GK', 'DEF', 'MID', 'FWD'])\n",
    "    squad.sort_values(by=['position', 'plays_for', 'name'], inplace=True)\n",
    "    teams_in_squad = Counter(tuple(squad['plays_for']))\n",
    "    if max(teams_in_squad.values()) > 3:\n",
    "        raise ValueError('Invalid team distribution in squad list. Must have 3 or less players from the same team.')\n",
    "    display(squad)\n",
    "    \n",
    "def make_transfer(b):\n",
    "    budget = remaining_budget.value\n",
    "    player_rows = [predictions[predictions['name'] == name] for name in your_squad]\n",
    "    if not player_rows:\n",
    "        raise ValueError('Squad list is empty.')\n",
    "    squad = pd.concat(player_rows).sort_values(by=['predicted_point_range', 'prob_3', 'prob_2', 'prob_1', 'prob_0'])\n",
    "    teams_in_squad = Counter(tuple(squad['plays_for']))\n",
    "    if max(teams_in_squad.values()) > 3:\n",
    "        raise ValueError('Invalid team distribution in squad list. Must have 3 or less players from the same team.')\n",
    "    statement = True\n",
    "    i = 0\n",
    "    while statement:\n",
    "        best_replacement = predictions.iloc[i]\n",
    "        if best_replacement['name'] in tuple(squad['name']):\n",
    "            i += 1\n",
    "            continue\n",
    "        budget_needed = best_replacement['value'] - budget\n",
    "        players_to_replace = squad[(squad['value'] >= budget_needed) & (squad['position'] == best_replacement['position'])]\n",
    "        if not tuple(players_to_replace.index):\n",
    "            i += 1\n",
    "            continue\n",
    "        for j, player in players_to_replace.iterrows():\n",
    "            teams_in_squad[player['plays_for']] = teams_in_squad[player['plays_for']] - 1\n",
    "            teams_in_squad[best_replacement['plays_for']] = teams_in_squad[best_replacement['plays_for']] + 1\n",
    "            if max(teams_in_squad.values()) > 3:\n",
    "                continue\n",
    "            elif (best_replacement['predicted_point_range'] >= player['predicted_point_range']) & (best_replacement['prob_{}'.format(int(best_replacement['predicted_point_range']))] > player['prob_{}'.format(int(best_replacement['predicted_point_range']))]):\n",
    "                print('Replace:', player['name'])\n",
    "                print('With:', best_replacement['name'])\n",
    "                statement = False\n",
    "                break\n",
    "            else:\n",
    "                continue\n",
    "        i += 1\n",
    "        continue"
   ]
  },
  {
   "cell_type": "code",
   "execution_count": 4,
   "metadata": {},
   "outputs": [
    {
     "data": {
      "application/vnd.jupyter.widget-view+json": {
       "model_id": "209c468e3caf487fa35f94df534c66b9",
       "version_major": 2,
       "version_minor": 0
      },
      "text/plain": [
       "Combobox(value='', description='Name:', ensure_option=True, options=('Aaron Connolly', 'Aaron Cresswell', 'Aar…"
      ]
     },
     "metadata": {},
     "output_type": "display_data"
    },
    {
     "data": {
      "application/vnd.jupyter.widget-view+json": {
       "model_id": "06d99dbe1cd443d3aadf1c1ed521d932",
       "version_major": 2,
       "version_minor": 0
      },
      "text/plain": [
       "Button(button_style='success', description='Click to add player to your squad.', layout=Layout(width='50%'), s…"
      ]
     },
     "metadata": {},
     "output_type": "display_data"
    },
    {
     "name": "stdout",
     "output_type": "stream",
     "text": [
      "\n"
     ]
    }
   ],
   "source": [
    "players = widgets.Combobox(\n",
    "    placeholder='Choose Player',\n",
    "    options=tuple(predictions['name'].sort_values()),\n",
    "    description='Name:',\n",
    "    ensure_option=True,\n",
    "    disabled=False)\n",
    "\n",
    "add_button = widgets.Button(\n",
    "    description='Click to add player to your squad.',\n",
    "    disabled=False,\n",
    "    button_style='success',\n",
    "    layout=widgets.Layout(width='50%'))\n",
    "\n",
    "add_button.on_click(add_player)\n",
    "\n",
    "display(players), display(add_button)\n",
    "print()"
   ]
  },
  {
   "cell_type": "code",
   "execution_count": 5,
   "metadata": {},
   "outputs": [
    {
     "data": {
      "application/vnd.jupyter.widget-view+json": {
       "model_id": "83a196f9579a4f7183bdb99666a3cf8a",
       "version_major": 2,
       "version_minor": 0
      },
      "text/plain": [
       "Combobox(value='', description='Name:', ensure_option=True, placeholder='Choose Player')"
      ]
     },
     "metadata": {},
     "output_type": "display_data"
    },
    {
     "data": {
      "application/vnd.jupyter.widget-view+json": {
       "model_id": "b09f62b33d4d423db990a294a25eb9d0",
       "version_major": 2,
       "version_minor": 0
      },
      "text/plain": [
       "Button(button_style='warning', description='Click to remove player from your squad.', layout=Layout(width='50%…"
      ]
     },
     "metadata": {},
     "output_type": "display_data"
    },
    {
     "name": "stdout",
     "output_type": "stream",
     "text": [
      "\n"
     ]
    }
   ],
   "source": [
    "# if you would like to remove a player from your squad, you will first need to re-run this cell before and after\n",
    "# to refresh your squad list in the text list.\n",
    "squad = widgets.Combobox(\n",
    "    placeholder='Choose Player',\n",
    "    options=tuple(sorted(your_squad)),\n",
    "    description='Name:',\n",
    "    ensure_option=True,\n",
    "    disabled=False)\n",
    "\n",
    "remove_button = widgets.Button(\n",
    "    description='Click to remove player from your squad.',\n",
    "    disabled=False,\n",
    "    button_style='warning',\n",
    "    layout=widgets.Layout(width='50%'))\n",
    "\n",
    "remove_button.on_click(remove_player)\n",
    "\n",
    "display(squad), display(remove_button)\n",
    "print()"
   ]
  },
  {
   "cell_type": "code",
   "execution_count": 6,
   "metadata": {},
   "outputs": [
    {
     "data": {
      "application/vnd.jupyter.widget-view+json": {
       "model_id": "3dec5764a93442759e2a2b03b208f0db",
       "version_major": 2,
       "version_minor": 0
      },
      "text/plain": [
       "Button(button_style='danger', description='Click to reset squad list.', layout=Layout(width='50%'), style=Butt…"
      ]
     },
     "metadata": {},
     "output_type": "display_data"
    },
    {
     "name": "stdout",
     "output_type": "stream",
     "text": [
      "\n"
     ]
    }
   ],
   "source": [
    "restart_button = widgets.Button(\n",
    "    description='Click to reset squad list.',\n",
    "    disabled=False,\n",
    "    button_style='danger',\n",
    "    layout=widgets.Layout(width='50%'))\n",
    "\n",
    "restart_button.on_click(restart_list)\n",
    "\n",
    "display(restart_button)\n",
    "print()"
   ]
  },
  {
   "cell_type": "code",
   "execution_count": 12,
   "metadata": {},
   "outputs": [
    {
     "data": {
      "application/vnd.jupyter.widget-view+json": {
       "model_id": "b1f970fdf7d644009f8f735c34d6d5d4",
       "version_major": 2,
       "version_minor": 0
      },
      "text/plain": [
       "Button(button_style='info', description='Click to view your squad.', layout=Layout(width='50%'), style=ButtonS…"
      ]
     },
     "metadata": {},
     "output_type": "display_data"
    },
    {
     "name": "stdout",
     "output_type": "stream",
     "text": [
      "\n"
     ]
    }
   ],
   "source": [
    "view_full_squad_button = widgets.Button(\n",
    "    description='Click to view your squad.',\n",
    "    disabled=False,\n",
    "    button_style='info',\n",
    "    layout=widgets.Layout(width='50%'))\n",
    "\n",
    "view_full_squad_button.on_click(view_full_squad)\n",
    "\n",
    "display(view_full_squad_button)\n",
    "print()"
   ]
  },
  {
   "cell_type": "code",
   "execution_count": 11,
   "metadata": {},
   "outputs": [
    {
     "data": {
      "application/vnd.jupyter.widget-view+json": {
       "model_id": "df3f00b3edfe4808b4902f30681eb74e",
       "version_major": 2,
       "version_minor": 0
      },
      "text/plain": [
       "IntText(value=0, description='Remaining Budget:', style=DescriptionStyle(description_width='initial'))"
      ]
     },
     "metadata": {},
     "output_type": "display_data"
    },
    {
     "data": {
      "application/vnd.jupyter.widget-view+json": {
       "model_id": "b8c18ec60e424942bfaa6498d4231e5c",
       "version_major": 2,
       "version_minor": 0
      },
      "text/plain": [
       "Button(button_style='info', description='Click to find best transfer.', layout=Layout(width='50%'), style=Butt…"
      ]
     },
     "metadata": {},
     "output_type": "display_data"
    },
    {
     "name": "stdout",
     "output_type": "stream",
     "text": [
      "\n"
     ]
    }
   ],
   "source": [
    "style = {'description_width': 'initial'}\n",
    "\n",
    "remaining_budget = widgets.IntText(\n",
    "    value=None,\n",
    "    description='Remaining Budget:',\n",
    "    disabled=False,\n",
    "    style=style)\n",
    "\n",
    "make_transfer_button = widgets.Button(\n",
    "    description='Click to find best transfer.',\n",
    "    disabled=False,\n",
    "    button_style='info',\n",
    "    layout=widgets.Layout(width='50%'))\n",
    "\n",
    "make_transfer_button.on_click(make_transfer)\n",
    "\n",
    "display(remaining_budget), display(make_transfer_button)\n",
    "print()"
   ]
  }
 ],
 "metadata": {
  "kernelspec": {
   "display_name": "Python 3",
   "language": "python",
   "name": "python3"
  },
  "language_info": {
   "codemirror_mode": {
    "name": "ipython",
    "version": 3
   },
   "file_extension": ".py",
   "mimetype": "text/x-python",
   "name": "python",
   "nbconvert_exporter": "python",
   "pygments_lexer": "ipython3",
   "version": "3.8.5"
  }
 },
 "nbformat": 4,
 "nbformat_minor": 1
}
